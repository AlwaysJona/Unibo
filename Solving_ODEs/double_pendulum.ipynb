{
 "cells": [
  {
   "cell_type": "code",
   "execution_count": 1,
   "id": "5e8b0c3f-bd98-48b3-b824-e2e371c6eb20",
   "metadata": {},
   "outputs": [],
   "source": [
    "import numpy as np\n",
    "import sympy as smp\n",
    "from scipy.integrate import odeint\n",
    "import matplotlib.pyplot as plt\n",
    "from matplotlib import animation\n"
   ]
  },
  {
   "cell_type": "code",
   "execution_count": 7,
   "id": "0c8bd978-0bd6-4cd9-bd9a-25ba112d16c3",
   "metadata": {},
   "outputs": [],
   "source": [
    "# define symbols for parameters\n",
    "\n",
    "L1, L2 = smp.symbols('L1 L2')\n",
    "t, g = smp.symbols('t g')\n",
    "m1, m2 = smp.symbols('m1 m2')"
   ]
  },
  {
   "cell_type": "code",
   "execution_count": 8,
   "id": "f8578497-149b-46e5-99bc-0914d74aa0cc",
   "metadata": {},
   "outputs": [],
   "source": [
    "# define symbols for functions, the 2 angles are the degrees of freedom of the system \n",
    "\n",
    "the1, the2 = smp.symbols('theta_1, theta_2', cls=smp.Function)\n",
    "the1 = the1(t)\n",
    "the2 = the2(t)\n",
    "\n",
    "# define the derivatives of the angles\n",
    "\n",
    "the1_d = smp.diff(the1, t)\n",
    "the2_d = smp.diff(the2, t)\n",
    "\n",
    "the1_dd = smp.diff(the1_d, t)\n",
    "the2_dd = smp.diff(the2_d, t)\n",
    "\n",
    "# define Cartesian coordinates, to later compute the Kinetic Energy\n",
    "\n",
    "x1 = L1*smp.sin(the1)\n",
    "y1 = -L1*smp.cos(the1)\n",
    "x2 = L1*smp.sin(the1) + L2*smp.sin(the2)\n",
    "y2 = -L1*smp.cos(the1) - L2*smp.cos(the2)"
   ]
  },
  {
   "cell_type": "code",
   "execution_count": 9,
   "id": "ddcf6b3d-3b12-4df0-815a-15933e89fa1b",
   "metadata": {},
   "outputs": [],
   "source": [
    "# define Kinetic Energy\n",
    "\n",
    "T1 = (1/2)*m1*((smp.diff(x1,t))**2+smp.diff(y1,t)**2)\n",
    "T2 = (1/2)*m2*((smp.diff(x2,t))**2+smp.diff(y2,t)**2)\n",
    "T = T1 + T2\n",
    "\n",
    "# define Potential Energy\n",
    "\n",
    "U1 = m1*g*y1\n",
    "U2 = m2*g*y2\n",
    "U = U1 + U2\n",
    "\n",
    "# define Lagrangian\n",
    "\n",
    "L = T - U\n"
   ]
  },
  {
   "cell_type": "code",
   "execution_count": 10,
   "id": "06829737-e73e-4d5f-8858-20ddba14f8eb",
   "metadata": {},
   "outputs": [],
   "source": [
    "# define Euler-Lagrange Equations\n",
    "\n",
    "EL1 = smp.diff(L, the1) - smp.diff(smp.diff(L,the1_d), t)\n",
    "EL2 = smp.diff(L, the2) - smp.diff(smp.diff(L,the2_d), t)\n",
    "\n",
    "# solve Euler-Lagrange Equations for the 2 second derivatives of the 2 angles\n",
    "\n",
    "sols = smp.solve([EL1, EL2], (the1_dd, the2_dd), simplify = False, rational = False)\n"
   ]
  },
  {
   "cell_type": "code",
   "execution_count": 11,
   "id": "5a3d09bc-76b2-41c2-bfc6-2564b99e591a",
   "metadata": {},
   "outputs": [],
   "source": [
    "# now we have 2 second order ODEs, but we can turn them into 4 first order ODEs\n",
    "\n",
    "dz1dt_f = smp.lambdify((t,g,m1,m2,L1,L2,the1,the2,the1_d,the2_d), sols[the1_dd]) # dz1dt = the1_dd\n",
    "dz2dt_f = smp.lambdify((t,g,m1,m2,L1,L2,the1,the2,the1_d,the2_d), sols[the2_dd]) # dz2dt = the2_dd\n",
    "dthe1dt_f = smp.lambdify(the1_d, the1_d) # z1 = the1_d\n",
    "dthe2dt_f = smp.lambdify(the2_d, the2_d) # z2 = the2_d\n",
    "\n",
    "def dSdt(S, t, g, m1, m2, L1, L2):\n",
    "    the1, the2, z1, z2 = S\n",
    "    return [\n",
    "        dthe1dt_f(z1),\n",
    "        dthe2dt_f(z2),\n",
    "        dz1dt_f(t,g,m1,m2,L1,L2,the1,the2,z1,z2),\n",
    "        dz2dt_f(t,g,m1,m2,L1,L2,the1,the2,z1,z2)\n",
    "    ]\n"
   ]
  },
  {
   "cell_type": "code",
   "execution_count": null,
   "id": "c562f6a1-8747-46ad-89c9-6ecfebe08171",
   "metadata": {},
   "outputs": [],
   "source": [
    "# set initial conditions\n",
    "\n",
    "t = np.linspace(0,1000,1000)\n",
    "g = 9.81\n",
    "m1 = 1\n",
    "m2 = 2\n",
    "L1 = 1\n",
    "L2 = 1\n",
    "y0 = (1, 2.3, 0, 0) # the1, the2, z1, z2\n",
    "\n",
    "# numerically solve ODE\n",
    "\n",
    "res = odeint(dSdt, y0 = y0, t=t, args=(g,m1,m2,L1,L2)).T # res[0] contains the1, res[1] contains the2"
   ]
  },
  {
   "cell_type": "code",
   "execution_count": null,
   "id": "8bfba5fe-bb51-4e3d-b625-da9841bf4b05",
   "metadata": {},
   "outputs": [],
   "source": [
    "# set Cartesian Coordinates\n",
    "\n",
    "x_1 = L1*np.sin(res[0])\n",
    "y_1 = -L1*np.cos(res[0])\n",
    "x_2 = L1*np.sin(res[0]) + L2*np.sin(res[1])\n",
    "y_2 = -L1*np.cos(res[0]) -L2*np.cos(res[1])\n",
    "\n",
    "# set up the figure\n",
    "\n",
    "fig, ax = plt.subplots()\n",
    "ax.set_xlim(-5,5)\n",
    "ax.set_ylim(-5,5)\n",
    "line1 = ax.plot([],[],'ro--', markersize = 8)\n",
    "\n",
    "# define animation function\n",
    "\n",
    "def Update(frame):\n",
    "    line1.set_data([0,x_1[frame],x_2[frame]], [0,y_1[frame],y_2[frame]])\n",
    "    return line1,\n"
   ]
  },
  {
   "cell_type": "code",
   "execution_count": null,
   "id": "2d65f10d-5cae-44ae-884a-be451ca4f9e4",
   "metadata": {},
   "outputs": [],
   "source": [
    "# animate\n",
    "\n",
    "anim = animation.FuncAnimation(fig,Update,1000, interval = 30)\n",
    "anim.save('doublep.gif',writer='pillow',fps=25)"
   ]
  },
  {
   "cell_type": "code",
   "execution_count": null,
   "id": "280145b8-4ec1-4a91-aac5-9811bb5c76aa",
   "metadata": {},
   "outputs": [],
   "source": []
  }
 ],
 "metadata": {
  "kernelspec": {
   "display_name": "Python 3 (ipykernel)",
   "language": "python",
   "name": "python3"
  },
  "language_info": {
   "codemirror_mode": {
    "name": "ipython",
    "version": 3
   },
   "file_extension": ".py",
   "mimetype": "text/x-python",
   "name": "python",
   "nbconvert_exporter": "python",
   "pygments_lexer": "ipython3",
   "version": "3.12.1"
  }
 },
 "nbformat": 4,
 "nbformat_minor": 5
}
